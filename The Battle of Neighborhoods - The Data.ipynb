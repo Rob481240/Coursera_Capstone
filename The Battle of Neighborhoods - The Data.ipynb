{
    "cells": [
        {
            "cell_type": "markdown",
            "metadata": {
                "collapsed": true
            },
            "source": "# The Battle of Neighborhoods - The Data"
        },
        {
            "cell_type": "markdown",
            "metadata": {},
            "source": "### Data Description:"
        },
        {
            "cell_type": "markdown",
            "metadata": {},
            "source": "Here is a link to the data: https://en.wikipedia.org/wiki/List_of_postal_codes_of_Canada:_M"
        },
        {
            "cell_type": "markdown",
            "metadata": {},
            "source": "The analysis will be utilizing the Toronto dataset which was scrapped from the link above on Week 3 of this course. The dataset will consist of neighborhoods, buroughs, postal codes, latitude, longitude, and zip codes."
        },
        {
            "cell_type": "markdown",
            "metadata": {},
            "source": "### Foursquare API:"
        },
        {
            "cell_type": "markdown",
            "metadata": {},
            "source": "Data will be acquired about various venues from different neighborhoods. The Foursquare tool will be utilized, as it provides location data along with information about the venue within the selected area. Included information provided are as follows:\n    * Venue Names\n    * Locations\n    * Photos\nThis will be the only data source that is used since all required information is obtainable through the API.\n\nWe will connect the Neighborhoods with the Foursquare API to procure information about venues (restaurants) inside each neighborhood.\n\nThe data output from Foursquare contained information regarding venues and their specific distance from the neighborhood coordinates. The information gathered per venue was as follows:\n    1. Neighborhood\n    2. Neighborhood Latitude\n    3. Neighborhood Longitude\n    4. Venue- Restaurant\n    5. Name of the Venue\n    6. Venue Latitude\n    7. Venue Longitude\n    8. Venue Category\n"
        }
    ],
    "metadata": {
        "kernelspec": {
            "display_name": "Python 3.6",
            "language": "python",
            "name": "python3"
        },
        "language_info": {
            "codemirror_mode": {
                "name": "ipython",
                "version": 3
            },
            "file_extension": ".py",
            "mimetype": "text/x-python",
            "name": "python",
            "nbconvert_exporter": "python",
            "pygments_lexer": "ipython3",
            "version": "3.6.9"
        }
    },
    "nbformat": 4,
    "nbformat_minor": 1
}