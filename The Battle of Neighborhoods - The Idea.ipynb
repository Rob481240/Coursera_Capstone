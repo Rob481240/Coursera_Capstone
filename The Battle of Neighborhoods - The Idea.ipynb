{
    "cells": [
        {
            "cell_type": "markdown",
            "metadata": {
                "collapsed": true
            },
            "source": "# The Battle of Neighborhoods - The Idea"
        },
        {
            "cell_type": "markdown",
            "metadata": {},
            "source": "### Introduction:"
        },
        {
            "cell_type": "markdown",
            "metadata": {},
            "source": "In this first section of the project, I will be the lead consultant in helping an investor/entrepreneur find the best location for their new restaurant. \n\nDeciding where to setup a restaurant is a large financial commitment and can be very risky if not executed properly.\n\nThe aim of this consultation is to provide an analysis for the investor to discover where they would have a greater probability of success based on the recommeneded neighborhood location of their new restaurant."
        },
        {
            "cell_type": "markdown",
            "metadata": {},
            "source": "### What We're Trying to Solve:"
        },
        {
            "cell_type": "markdown",
            "metadata": {},
            "source": "The purpose of this project is find the best neighborhood for the investors' new restaurant. We will be exploring an ideal location based on factors such as:\n    - Distance to competitors\n    - Existing opportunities within neighborhoods"
        },
        {
            "cell_type": "markdown",
            "metadata": {},
            "source": "### Location:"
        },
        {
            "cell_type": "markdown",
            "metadata": {},
            "source": "The city in which we are exploring is Toronto, Canada. This is a very diverse community, which correlates with a plethora of dining choices."
        },
        {
            "cell_type": "markdown",
            "metadata": {},
            "source": "### Foursquare API"
        },
        {
            "cell_type": "markdown",
            "metadata": {},
            "source": "This analysis would use Foursquare API as its primary source for gathering data. Their database has millions of places; specifically, their Places API component which allows for the ability to perform searches based on location and venue."
        },
        {
            "cell_type": "markdown",
            "metadata": {},
            "source": "### Cluster Approach"
        },
        {
            "cell_type": "markdown",
            "metadata": {},
            "source": "To see where these existing opportunities for a new restaurant may be located, we decided to explore restaurants in different neighborhoods, segment them, and group them into clusters. This will be accomplished by machine learning- specifically, the k-means clustering algorithm."
        },
        {
            "cell_type": "markdown",
            "metadata": {},
            "source": "### Libraries used in this Analysis"
        },
        {
            "cell_type": "markdown",
            "metadata": {},
            "source": "Pandas: Creating and manipulating dataframes\n\nFolium: Python visualization library would be used to visualize the neighborhoods cluster distribution\n\nScikit Learn: For importing k-means clustering\n\nJSON: Library to handle JSON files\n\nGeocoder: To retrieve Location Data\n\nRequests: To scrap and handle URL requests\n\nMatplotlib: Python Plotting Module"
        },
        {
            "cell_type": "code",
            "execution_count": null,
            "metadata": {},
            "outputs": [],
            "source": ""
        }
    ],
    "metadata": {
        "kernelspec": {
            "display_name": "Python 3.6",
            "language": "python",
            "name": "python3"
        },
        "language_info": {
            "codemirror_mode": {
                "name": "ipython",
                "version": 3
            },
            "file_extension": ".py",
            "mimetype": "text/x-python",
            "name": "python",
            "nbconvert_exporter": "python",
            "pygments_lexer": "ipython3",
            "version": "3.6.9"
        }
    },
    "nbformat": 4,
    "nbformat_minor": 1
}